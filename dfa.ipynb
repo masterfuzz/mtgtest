{
 "cells": [
  {
   "cell_type": "code",
   "execution_count": 2,
   "metadata": {},
   "outputs": [],
   "source": [
    "import networkx as nx\n",
    "import mtg"
   ]
  },
  {
   "cell_type": "code",
   "execution_count": 4,
   "metadata": {},
   "outputs": [],
   "source": [
    "cdb = mtg.CardDB()"
   ]
  },
  {
   "cell_type": "code",
   "execution_count": 5,
   "metadata": {},
   "outputs": [],
   "source": [
    "G = nx.MultiDiGraph()"
   ]
  },
  {
   "cell_type": "code",
   "execution_count": 8,
   "metadata": {},
   "outputs": [],
   "source": [
    "\n",
    "\n",
    "states = 0\n",
    "G.add_node(0)\n",
    "for card in cdb.values():\n",
    "    current_state = 0\n",
    "    for word in card.sanitized_text().split():\n",
    "        next_state = [s for s in G[current_state] for e in G[current_state][s] if G[current_state][s][e]['token'] == word]\n",
    "        if next_state:\n",
    "            current_state = next_state[0]\n",
    "        else:\n",
    "            states += 1\n",
    "            G.add_edge(current_state, states, token=word)\n",
    "            current_state = states\n",
    "        \n",
    "        "
   ]
  },
  {
   "cell_type": "code",
   "execution_count": 22,
   "metadata": {},
   "outputs": [],
   "source": [
    "import random\n",
    "def gen(cs):\n",
    "    trans = [(s, G[cs][s][e]['token']) for s in G[cs] for e in G[cs][s]]\n",
    "    if not trans:\n",
    "        return\n",
    "    next_state, word = random.choice(trans)\n",
    "    yield word\n",
    "    yield from gen(next_state)\n",
    "    \n",
    "    "
   ]
  },
  {
   "cell_type": "code",
   "execution_count": 39,
   "metadata": {},
   "outputs": [],
   "source": [
    "def state_sequence(seq):\n",
    "    cs = 0\n",
    "    for word in seq:\n",
    "        next_state = [s for s in G[cs] for e in G[cs][s] if G[cs][s][e]['token'] == word]\n",
    "        if next_state:\n",
    "            cs = next_state[0]\n",
    "            yield cs\n",
    "        else:\n",
    "            raise Exception(\"Reject\")\n",
    "        "
   ]
  },
  {
   "cell_type": "code",
   "execution_count": 42,
   "metadata": {},
   "outputs": [
    {
     "data": {
      "text/plain": [
       "[206643,\n",
       " 206644,\n",
       " 206645,\n",
       " 206646,\n",
       " 206647,\n",
       " 206648,\n",
       " 206649,\n",
       " 206650,\n",
       " 206651,\n",
       " 206652,\n",
       " 206653]"
      ]
     },
     "execution_count": 42,
     "metadata": {},
     "output_type": "execute_result"
    }
   ],
   "source": [
    "list(state_sequence(gen(0)) )"
   ]
  },
  {
   "cell_type": "code",
   "execution_count": null,
   "metadata": {},
   "outputs": [],
   "source": []
  }
 ],
 "metadata": {
  "kernelspec": {
   "display_name": "Python 3",
   "language": "python",
   "name": "python3"
  },
  "language_info": {
   "codemirror_mode": {
    "name": "ipython",
    "version": 3
   },
   "file_extension": ".py",
   "mimetype": "text/x-python",
   "name": "python",
   "nbconvert_exporter": "python",
   "pygments_lexer": "ipython3",
   "version": "3.8.1"
  }
 },
 "nbformat": 4,
 "nbformat_minor": 4
}
